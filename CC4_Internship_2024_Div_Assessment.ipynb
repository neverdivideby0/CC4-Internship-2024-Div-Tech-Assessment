{
 "cells": [
  {
   "cell_type": "markdown",
   "id": "b7b50cd3",
   "metadata": {},
   "source": [
    "# Task 1: \n",
    "Steven is a travel blogger that intends to create a travel food series. He is looking at data from Zomato for inspiration. He wants to find restaurants that have good user ratings and interesting past events.\n",
    "Steven obtained the following data:\n",
    "\n",
    "·   \tList of restaurants\n",
    "\n",
    "·   \tCountry Code (in excel format)"
   ]
  },
  {
   "cell_type": "code",
   "execution_count": 1,
   "id": "51474d58",
   "metadata": {},
   "outputs": [
    {
     "name": "stderr",
     "output_type": "stream",
     "text": [
      "/Users/bryanlee/Library/Python/3.9/lib/python/site-packages/requests/__init__.py:102: RequestsDependencyWarning: urllib3 (1.26.18) or chardet (5.2.0)/charset_normalizer (2.0.12) doesn't match a supported version!\n",
      "  warnings.warn(\"urllib3 ({}) or chardet ({})/charset_normalizer ({}) doesn't match a supported \"\n"
     ]
    },
    {
     "data": {
      "text/html": [
       "<div>\n",
       "<style scoped>\n",
       "    .dataframe tbody tr th:only-of-type {\n",
       "        vertical-align: middle;\n",
       "    }\n",
       "\n",
       "    .dataframe tbody tr th {\n",
       "        vertical-align: top;\n",
       "    }\n",
       "\n",
       "    .dataframe thead th {\n",
       "        text-align: right;\n",
       "    }\n",
       "</style>\n",
       "<table border=\"1\" class=\"dataframe\">\n",
       "  <thead>\n",
       "    <tr style=\"text-align: right;\">\n",
       "      <th></th>\n",
       "      <th>country_code</th>\n",
       "      <th>country</th>\n",
       "    </tr>\n",
       "  </thead>\n",
       "  <tbody>\n",
       "    <tr>\n",
       "      <th>0</th>\n",
       "      <td>1</td>\n",
       "      <td>India</td>\n",
       "    </tr>\n",
       "    <tr>\n",
       "      <th>1</th>\n",
       "      <td>14</td>\n",
       "      <td>Australia</td>\n",
       "    </tr>\n",
       "    <tr>\n",
       "      <th>2</th>\n",
       "      <td>30</td>\n",
       "      <td>Brazil</td>\n",
       "    </tr>\n",
       "    <tr>\n",
       "      <th>3</th>\n",
       "      <td>37</td>\n",
       "      <td>Canada</td>\n",
       "    </tr>\n",
       "    <tr>\n",
       "      <th>4</th>\n",
       "      <td>94</td>\n",
       "      <td>Indonesia</td>\n",
       "    </tr>\n",
       "  </tbody>\n",
       "</table>\n",
       "</div>"
      ],
      "text/plain": [
       "   country_code    country\n",
       "0             1      India\n",
       "1            14  Australia\n",
       "2            30     Brazil\n",
       "3            37     Canada\n",
       "4            94  Indonesia"
      ]
     },
     "execution_count": 1,
     "metadata": {},
     "output_type": "execute_result"
    }
   ],
   "source": [
    "import requests\n",
    "import json\n",
    "import pandas as pd\n",
    "\n",
    "#load list of restaurants\n",
    "url = \"https://raw.githubusercontent.com/Papagoat/brain-assessment/main/restaurant_data.json\"\n",
    "response = requests.get(url)\n",
    "data = json.loads(response.text)\n",
    "#print(data)\n",
    "\n",
    "#load xlsx file\n",
    "excel_file_path = 'Country-Code.xlsx'\n",
    "country_codes_df = pd.read_excel(excel_file_path)\n",
    "country_codes_df.columns = ['country_code', 'country']\n",
    "country_codes_df.head()"
   ]
  },
  {
   "cell_type": "markdown",
   "id": "a84ed0f3",
   "metadata": {},
   "source": [
    "## 1. \tExtract the following fields and store the data as restaurants.csv.\n",
    "\n",
    "◦   \tRestaurant Id\n",
    "\n",
    "◦   \tRestaurant Name\n",
    "\n",
    "◦   \tCountry\n",
    "\n",
    "◦   \tCity\n",
    "\n",
    "◦   \tUser Rating Votes\n",
    "\n",
    "◦   \tUser Aggregate Rating (in float)\n",
    "\n",
    "◦   \tCuisines"
   ]
  },
  {
   "cell_type": "markdown",
   "id": "8d9968bc",
   "metadata": {},
   "source": [
    "__Steps__\n",
    "1. Inspect and extract relevant information from the json\n",
    "2. Putting it into a dataframe\n",
    "3. Joining with the xlsx data to get the Country\n",
    "4. Format and store as csv"
   ]
  },
  {
   "cell_type": "code",
   "execution_count": 10,
   "id": "95b5f956",
   "metadata": {},
   "outputs": [
    {
     "name": "stdout",
     "output_type": "stream",
     "text": [
      "   restaurant_id       restaurant_name  country_id       city  \\\n",
      "0       18649486  The Drunken Botanist           1    Gurgaon   \n",
      "1         308322      Hauz Khas Social           1  New Delhi   \n",
      "2       18856789  AIR- An Ivory Region           1  New Delhi   \n",
      "3         307374              AMA Cafe           1  New Delhi   \n",
      "4       18238278               Tamasha           1  New Delhi   \n",
      "\n",
      "  user_rating_votes  user_aggregate_rating  \\\n",
      "0              4765                    4.4   \n",
      "1             13627                    4.6   \n",
      "2              1819                    4.1   \n",
      "3              3252                    4.4   \n",
      "4              8112                    4.4   \n",
      "\n",
      "                                            cuisines  \n",
      "0        Continental, Italian, North Indian, Chinese  \n",
      "1  Continental, American, Asian, North Indian, Ch...  \n",
      "2          North Indian, Chinese, Continental, Asian  \n",
      "3                                       Cafe, Juices  \n",
      "4    Finger Food, North Indian, Continental, Italian  \n"
     ]
    }
   ],
   "source": [
    "#1.\n",
    "restaurant_in_list = []\n",
    "for restaurant in data[0]['restaurants']:\n",
    "    entry = restaurant['restaurant']\n",
    "    restaurant_in_list.append({\n",
    "        'restaurant_id': restaurant['restaurant']['R']['res_id'],\n",
    "        'restaurant_name': restaurant['restaurant']['name'],\n",
    "        'country_id': restaurant['restaurant']['location']['country_id'],\n",
    "        'city': restaurant['restaurant']['location']['city'],\n",
    "        'user_rating_votes': restaurant['restaurant']['user_rating']['votes'],\n",
    "        'user_aggregate_rating': float(restaurant['restaurant']['user_rating']['aggregate_rating']),\n",
    "        'cuisines': restaurant['restaurant']['cuisines']\n",
    "    })\n",
    "    \n",
    "#2.\n",
    "restaurant_in_df = pd.DataFrame(restaurant_in_list)\n",
    "print(restaurant_in_df.head())\n",
    "\n",
    "#3.\n",
    "final_restaurant_df = restaurant_in_df.merge(country_codes_df, how='left', left_on='country_id', right_on='country_code')\n",
    "\n",
    "#4.\n",
    "final_columns = ['restaurant_id', 'restaurant_name', 'country', 'city', 'user_rating_votes', \n",
    "                 'user_aggregate_rating', 'cuisines']\n",
    "final_restaurant_df = final_restaurant_df[final_columns]\n",
    "final_restaurant_df.to_csv('restaurants.csv', index=False)"
   ]
  },
  {
   "cell_type": "markdown",
   "id": "222076b6",
   "metadata": {},
   "source": []
  }
 ],
 "metadata": {
  "kernelspec": {
   "display_name": "Python 3 (ipykernel)",
   "language": "python",
   "name": "python3"
  },
  "language_info": {
   "codemirror_mode": {
    "name": "ipython",
    "version": 3
   },
   "file_extension": ".py",
   "mimetype": "text/x-python",
   "name": "python",
   "nbconvert_exporter": "python",
   "pygments_lexer": "ipython3",
   "version": "3.9.6"
  }
 },
 "nbformat": 4,
 "nbformat_minor": 5
}
